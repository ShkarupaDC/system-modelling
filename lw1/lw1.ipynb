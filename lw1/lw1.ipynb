{
 "cells": [
  {
   "cell_type": "markdown",
   "id": "ca6029c1-d498-41dd-8740-7d82255af9a7",
   "metadata": {},
   "source": [
    "## Import modules"
   ]
  },
  {
   "cell_type": "code",
   "execution_count": 1,
   "id": "0e4320ce-d7b9-47d8-b329-d2813c6ff5fe",
   "metadata": {},
   "outputs": [],
   "source": [
    "import math\n",
    "import random\n",
    "import numpy as np\n",
    "from scipy import stats\n",
    "import matplotlib.pyplot as plt\n",
    "import seaborn as sns\n",
    "import typing as t"
   ]
  },
  {
   "cell_type": "markdown",
   "id": "a52b38d0-a926-4d1d-a053-aee70c64586a",
   "metadata": {},
   "source": [
    "## Utils"
   ]
  },
  {
   "cell_type": "code",
   "execution_count": 2,
   "id": "45a0393e-a26c-4b77-87ef-169a5c12ddec",
   "metadata": {},
   "outputs": [],
   "source": [
    "T = t.TypeVar('T')\n",
    "Tuple2 = t.Tuple[T, T]\n",
    "ComputeProbaFn = t.Callable[[float, float, ...], float]"
   ]
  },
  {
   "cell_type": "code",
   "execution_count": 3,
   "id": "b3c3f2a8-5b19-47d4-93dc-c14908a2b45f",
   "metadata": {},
   "outputs": [],
   "source": [
    "def plot_hist(data: t.Iterable,\n",
    "              title: t.Optional[str] = None,\n",
    "              figsize: Tuple2[float] = (8, 6),\n",
    "              fontsize: int = 14,\n",
    "              ax: t.Optional[plt.Axes] = None,\n",
    "              **kwargs: t.Any) -> plt.Axes:\n",
    "    if ax is None:\n",
    "        ax = plt.subplots(figsize=figsize)[1]\n",
    "    # sns.histplot(data, color='blue', edgecolor='white', ax=ax, **kwargs)\n",
    "    ax.hist(data, color='blue', edgecolor='white', **kwargs)\n",
    "    ax.grid(True)\n",
    "    ax.set_xlabel('Value', fontsize=fontsize)\n",
    "    ax.set_ylabel('Count', fontsize=fontsize)\n",
    "    if title is not None:\n",
    "        ax.set_title(title, fontsize=fontsize)\n",
    "    return ax\n",
    "\n",
    "\n",
    "def compute_stats(data: np.ndarray) -> Tuple2[float]:\n",
    "    return np.mean(data), np.std(data, ddof=1)\n",
    "\n",
    "\n",
    "def get_bins(bin_edges: np.ndarray) -> t.List[Tuple2[float]]:\n",
    "    return [(bin_edges[idx - 1], bin_edges[idx]) for idx in range(1, bin_edges.size)]\n",
    "\n",
    "\n",
    "def compute_chi2(alpha: float, num_bins: int, num_dist_params: int) -> float:\n",
    "    return stats.chi2.ppf(1 - alpha, num_bins - num_dist_params - 1)\n",
    "\n",
    "\n",
    "def compute_chi2_hat(counts: np.ndarray, bin_edges: np.ndarray, num_samples: int, compute_proba: ComputeProbaFn,\n",
    "                     *args: t.Any, **kwargs: t.Any) -> float:\n",
    "    probs_hat = np.array([compute_proba(lhs, rhs, *args, **kwargs) for lhs, rhs in get_bins(bin_edges)])\n",
    "    counts_hat = probs_hat * num_samples\n",
    "    return np.sum(np.square(counts - counts_hat) / counts_hat)\n",
    "\n",
    "\n",
    "def accept_chi2(chi2_hat: float, chi2: float) -> bool:\n",
    "    return chi2_hat <= chi2"
   ]
  },
  {
   "cell_type": "markdown",
   "id": "12b89005-d2c3-4d14-833d-e6cb4a2fccac",
   "metadata": {},
   "source": [
    "## Exponential distribution"
   ]
  },
  {
   "cell_type": "code",
   "execution_count": 4,
   "id": "10a602a7-63bd-40a7-99d0-d6beec391701",
   "metadata": {},
   "outputs": [],
   "source": [
    "def compute_exp_proba(lhs: float, rhs: float, lambda_: float) -> float:\n",
    "    return math.exp(-lhs * lambda_) - math.exp(-rhs * lambda_)"
   ]
  },
  {
   "cell_type": "markdown",
   "id": "efed9d71-8961-4bb9-83ed-0a842da92202",
   "metadata": {},
   "source": [
    "### Config"
   ]
  },
  {
   "cell_type": "code",
   "execution_count": 5,
   "id": "be58b848-a5bb-45cb-9116-f3b5699877cc",
   "metadata": {},
   "outputs": [],
   "source": [
    "exp_num_samples = 10000\n",
    "lambda_ = 3\n",
    "exp_num_bins = 20\n",
    "exp_alpha = 0.05"
   ]
  },
  {
   "cell_type": "markdown",
   "id": "5b2c6f19-aa66-4514-9228-0adad27f06a3",
   "metadata": {},
   "source": [
    "### Generation"
   ]
  },
  {
   "cell_type": "code",
   "execution_count": 6,
   "id": "dca2aad1-8dd3-4155-9a85-e4e65081ae93",
   "metadata": {},
   "outputs": [],
   "source": [
    "xi_exp = np.random.uniform(size=exp_num_samples)\n",
    "x_exp = -1 / lambda_ * np.log(xi_exp)"
   ]
  },
  {
   "cell_type": "markdown",
   "id": "0bd4ae29-f5d0-428e-aab1-9b5b46dbd18d",
   "metadata": {},
   "source": [
    "### Histogram"
   ]
  },
  {
   "cell_type": "code",
   "execution_count": 7,
   "id": "8ff3d0c7-a22b-4629-96b9-f48e54ce7065",
   "metadata": {},
   "outputs": [],
   "source": [
    "exp_counts, exp_bin_edges = np.histogram(x_exp, bins=exp_num_bins)"
   ]
  },
  {
   "cell_type": "code",
   "execution_count": 8,
   "id": "4d2149ca-407e-4913-8f0f-4991b5487d16",
   "metadata": {},
   "outputs": [
    {
     "data": {
      "text/plain": [
       "<AxesSubplot:title={'center':'Exponential distribution'}, xlabel='Value', ylabel='Count'>"
      ]
     },
     "execution_count": 8,
     "metadata": {},
     "output_type": "execute_result"
    },
    {
     "data": {
      "image/png": "[encoded data removed]",
      "text/plain": [
       "<Figure size 576x432 with 1 Axes>"
      ]
     },
     "metadata": {
      "needs_background": "light"
     },
     "output_type": "display_data"
    }
   ],
   "source": [
    "plot_hist(x_exp, bins=exp_bin_edges, title='Exponential distribution')"
   ]
  },
  {
   "cell_type": "markdown",
   "id": "0fe79763-dc9d-4e40-a76e-e8e000c68262",
   "metadata": {},
   "source": [
    "### Test"
   ]
  },
  {
   "cell_type": "code",
   "execution_count": 9,
   "id": "f8f6d63e-5a07-4fbe-995e-3f97becda330",
   "metadata": {},
   "outputs": [],
   "source": [
    "exp_mean, exp_std = compute_stats(x_exp)\n",
    "mean_lambda = 1 / exp_mean\n",
    "std_lambda = 1 / exp_std\n",
    "lambda_hat = (mean_lambda + std_lambda) / 2"
   ]
  },
  {
   "cell_type": "code",
   "execution_count": 10,
   "id": "98b126af-3938-484a-a9bf-82025c352cab",
   "metadata": {},
   "outputs": [
    {
     "name": "stdout",
     "output_type": "stream",
     "text": [
      "Mean: 0.339. Std: 0.339\n",
      "Lambda: 2.953\n"
     ]
    }
   ],
   "source": [
    "print(f'Mean: {exp_mean:.3f}. Std: {exp_std:.3f}')\n",
    "print(f'Lambda: {lambda_hat:.3f}')"
   ]
  },
  {
   "cell_type": "code",
   "execution_count": 12,
   "id": "c02e6218-fef5-42a4-b2a6-53f8e3e42a36",
   "metadata": {},
   "outputs": [],
   "source": [
    "exp_chi2_hat = compute_chi2_hat(counts=exp_counts,\n",
    "                                bin_edges=exp_bin_edges,\n",
    "                                num_samples=exp_num_samples,\n",
    "                                compute_proba=compute_exp_proba,\n",
    "                                lambda_=lambda_hat)\n",
    "exp_num_dist_params = 1\n",
    "exp_chi2 = compute_chi2(alpha=exp_alpha, num_bins=exp_num_bins, num_dist_params=exp_num_dist_params)"
   ]
  },
  {
   "cell_type": "code",
   "execution_count": 13,
   "id": "da306c61-cd09-45bc-af53-749835cb8de5",
   "metadata": {},
   "outputs": [
    {
     "name": "stdout",
     "output_type": "stream",
     "text": [
      "Estimated Chi2: 19.279. Chi2 critical value: 28.869\n",
      "Accepted!\n"
     ]
    }
   ],
   "source": [
    "print(f'Estimated Chi2: {exp_chi2_hat:.3f}. Chi2 critical value: {exp_chi2:.3f}')\n",
    "print('Accepted!' if accept_chi2(exp_chi2_hat, exp_chi2) else 'Rejected!')"
   ]
  },
  {
   "cell_type": "markdown",
   "id": "5b365aff-0ae9-41dc-85c8-0d553cae9b31",
   "metadata": {},
   "source": [
    "## Normal distribution"
   ]
  },
  {
   "cell_type": "code",
   "execution_count": 14,
   "id": "94db5e46-07f9-481e-8fb0-261a1d99d130",
   "metadata": {},
   "outputs": [],
   "source": [
    "def compute_norm_proba(lhs: float, rhs: float, mean: float, std: float) -> float:\n",
    "    lhs_cdf, rhs_cdf = stats.norm.cdf([lhs, rhs], loc=mean, scale=std)\n",
    "    return rhs_cdf - lhs_cdf"
   ]
  },
  {
   "cell_type": "markdown",
   "id": "600d8b6a-839d-428f-a326-b3f794e80447",
   "metadata": {},
   "source": [
    "### Config"
   ]
  },
  {
   "cell_type": "code",
   "execution_count": 15,
   "id": "274d544d-0625-49b7-b73a-599d17e654b1",
   "metadata": {},
   "outputs": [],
   "source": [
    "norm_num_samples = 10000\n",
    "sigma = 2\n",
    "mean = -3\n",
    "norm_num_bins = 20\n",
    "norm_alpha = 0.05"
   ]
  },
  {
   "cell_type": "markdown",
   "id": "c4366d54-4331-414a-ad4f-5ec3210bb39e",
   "metadata": {},
   "source": [
    "### Generation"
   ]
  },
  {
   "cell_type": "code",
   "execution_count": 16,
   "id": "0f2db619-1ac1-427a-bbca-240530f20a15",
   "metadata": {},
   "outputs": [],
   "source": [
    "xi_norm = np.random.uniform(size=(norm_num_samples, 12))\n",
    "mu_norm = xi_norm.sum(axis=1) - 6\n",
    "x_norm = sigma * mu_norm + mean"
   ]
  },
  {
   "cell_type": "markdown",
   "id": "03c87332-4ca7-4491-8d07-6c6c30628ee8",
   "metadata": {},
   "source": [
    "### Histogram"
   ]
  },
  {
   "cell_type": "code",
   "execution_count": 17,
   "id": "8865c26e-e636-46c8-9c8b-bf97e26172aa",
   "metadata": {},
   "outputs": [],
   "source": [
    "norm_counts, norm_bin_edges = np.histogram(x_norm, bins=norm_num_bins)"
   ]
  },
  {
   "cell_type": "code",
   "execution_count": 18,
   "id": "aa6a8621-b766-453f-ab86-9c75a1ffdb93",
   "metadata": {},
   "outputs": [
    {
     "data": {
      "text/plain": [
       "<AxesSubplot:title={'center':'Normal distribution'}, xlabel='Value', ylabel='Count'>"
      ]
     },
     "execution_count": 18,
     "metadata": {},
     "output_type": "execute_result"
    },
    {
     "data": {
      "image/png": "[encoded data removed]",
      "text/plain": [
       "<Figure size 576x432 with 1 Axes>"
      ]
     },
     "metadata": {
      "needs_background": "light"
     },
     "output_type": "display_data"
    }
   ],
   "source": [
    "plot_hist(x_norm, bins=norm_bin_edges, title='Normal distribution')"
   ]
  },
  {
   "cell_type": "markdown",
   "id": "570012c9-eb65-42e9-9b06-1d51c6a4dc55",
   "metadata": {},
   "source": [
    "### Test"
   ]
  },
  {
   "cell_type": "code",
   "execution_count": 19,
   "id": "c21f987d-9bc6-4512-9d4c-f57a413e713b",
   "metadata": {},
   "outputs": [],
   "source": [
    "norm_mean_hat, norm_std_hat = compute_stats(x_norm)"
   ]
  },
  {
   "cell_type": "code",
   "execution_count": 20,
   "id": "c32b4ea4-1474-47cc-a225-1fa9d2f0bd60",
   "metadata": {},
   "outputs": [
    {
     "name": "stdout",
     "output_type": "stream",
     "text": [
      "Mean: -2.989. Std: 2.006\n"
     ]
    }
   ],
   "source": [
    "print(f'Mean: {norm_mean_hat:.3f}. Std: {norm_std_hat:.3f}')"
   ]
  },
  {
   "cell_type": "code",
   "execution_count": 21,
   "id": "143d0e0c-a3ac-48f7-8bec-6196b548b4eb",
   "metadata": {},
   "outputs": [],
   "source": [
    "norm_chi2_hat = compute_chi2_hat(counts=norm_counts,\n",
    "                                 bin_edges=norm_bin_edges,\n",
    "                                 num_samples=norm_num_samples,\n",
    "                                 compute_proba=compute_norm_proba,\n",
    "                                 mean=norm_mean_hat,\n",
    "                                 std=norm_std_hat)\n",
    "norm_num_dist_params = 2\n",
    "norm_chi2 = compute_chi2(alpha=norm_alpha, num_bins=norm_num_bins, num_dist_params=norm_num_dist_params)"
   ]
  },
  {
   "cell_type": "code",
   "execution_count": 22,
   "id": "52b3f4c9-4195-4310-9c87-5f8babf7d67b",
   "metadata": {},
   "outputs": [
    {
     "name": "stdout",
     "output_type": "stream",
     "text": [
      "Estimated Chi2: 8.626. Chi2 critical value: 27.587\n",
      "Accepted!\n"
     ]
    }
   ],
   "source": [
    "print(f'Estimated Chi2: {norm_chi2_hat:.3f}. Chi2 critical value: {norm_chi2:.3f}')\n",
    "print('Accepted!' if accept_chi2(norm_chi2_hat, norm_chi2) else 'Rejected!')"
   ]
  },
  {
   "cell_type": "markdown",
   "id": "2d61ae73-c7ed-4647-976b-2fb94b868062",
   "metadata": {},
   "source": [
    "## Uniform distribution"
   ]
  },
  {
   "cell_type": "code",
   "execution_count": 24,
   "id": "4af7ba55-e7af-4edf-97bf-9f850ba9d38b",
   "metadata": {},
   "outputs": [],
   "source": [
    "def compute_uniform_proba(lhs: float, rhs: float, a: float, b: float) -> float:\n",
    "    return (rhs - lhs) / (b - a)"
   ]
  },
  {
   "cell_type": "markdown",
   "id": "947cacf1-2fed-4459-a2bd-ada0e1a53a23",
   "metadata": {},
   "source": [
    "### Config"
   ]
  },
  {
   "cell_type": "code",
   "execution_count": 25,
   "id": "5fb9185a-93e5-4276-860e-b3f9b7d94285",
   "metadata": {},
   "outputs": [],
   "source": [
    "uniform_num_samples = 10000\n",
    "a = 5**13\n",
    "c = 2**31\n",
    "uniform_num_bins = 20\n",
    "uniform_alpha = 0.05"
   ]
  },
  {
   "cell_type": "markdown",
   "id": "42942364-83d9-46b0-9885-c942de5165dc",
   "metadata": {},
   "source": [
    "### Generation"
   ]
  },
  {
   "cell_type": "code",
   "execution_count": 26,
   "id": "b6765cba-ea3a-4402-826e-4da5a2236ded",
   "metadata": {},
   "outputs": [],
   "source": [
    "x_uniform = np.empty(uniform_num_samples)\n",
    "z_uniform = random.randint(0, c)\n",
    "\n",
    "for idx in range(uniform_num_samples):\n",
    "    z_uniform = (a * z_uniform) % c\n",
    "    x_uniform[idx] = z_uniform / c"
   ]
  },
  {
   "cell_type": "markdown",
   "id": "4098011b-2b00-45cd-a264-86d1e2e3d866",
   "metadata": {},
   "source": [
    "### Histogram"
   ]
  },
  {
   "cell_type": "code",
   "execution_count": 27,
   "id": "81ea2a56-309c-463d-822a-afc748e96cfc",
   "metadata": {},
   "outputs": [],
   "source": [
    "uniform_counts, uniform_bin_edges = np.histogram(x_uniform, bins=uniform_num_bins)"
   ]
  },
  {
   "cell_type": "code",
   "execution_count": 28,
   "id": "3419e7d5-8c5e-4362-a1de-3e93668d2cd9",
   "metadata": {},
   "outputs": [
    {
     "data": {
      "text/plain": [
       "<AxesSubplot:title={'center':'Uniform distribution'}, xlabel='Value', ylabel='Count'>"
      ]
     },
     "execution_count": 28,
     "metadata": {},
     "output_type": "execute_result"
    },
    {
     "data": {
      "image/png": "[encoded data removed]",
      "text/plain": [
       "<Figure size 576x432 with 1 Axes>"
      ]
     },
     "metadata": {
      "needs_background": "light"
     },
     "output_type": "display_data"
    }
   ],
   "source": [
    "plot_hist(x_uniform, bins=uniform_bin_edges, title='Uniform distribution')"
   ]
  },
  {
   "cell_type": "markdown",
   "id": "c4b4e2a5-3b88-4a76-954c-3435b2619108",
   "metadata": {},
   "source": [
    "### Test"
   ]
  },
  {
   "cell_type": "code",
   "execution_count": 29,
   "id": "895d7104-8e54-434f-ae9f-ff217cb23c96",
   "metadata": {},
   "outputs": [],
   "source": [
    "uniform_mean, uniform_std = compute_stats(x_uniform)\n",
    "uniform_a = uniform_mean - math.sqrt(3) * uniform_std\n",
    "uniform_b = uniform_mean + math.sqrt(3) * uniform_std"
   ]
  },
  {
   "cell_type": "code",
   "execution_count": 30,
   "id": "0dc872a5-3965-4d03-a1ae-0650f28af884",
   "metadata": {},
   "outputs": [
    {
     "name": "stdout",
     "output_type": "stream",
     "text": [
      "A: -0.0010328207397883316. B: 0.9943993062460845\n",
      "Mean: 0.497. Std: 0.287\n"
     ]
    }
   ],
   "source": [
    "print(f'A: {uniform_a}. B: {uniform_b}')\n",
    "print(f'Mean: {uniform_mean:.3f}. Std: {uniform_std:.3f}')"
   ]
  },
  {
   "cell_type": "code",
   "execution_count": 31,
   "id": "b520c121-0425-47df-94cc-a6563556c59f",
   "metadata": {},
   "outputs": [],
   "source": [
    "uniform_chi2_hat = compute_chi2_hat(counts=uniform_counts,\n",
    "                                    bin_edges=uniform_bin_edges,\n",
    "                                    num_samples=uniform_num_samples,\n",
    "                                    compute_proba=compute_uniform_proba,\n",
    "                                    a=uniform_a,\n",
    "                                    b=uniform_b)\n",
    "uniform_num_dist_params = 2\n",
    "uniform_chi2 = compute_chi2(alpha=uniform_alpha, num_bins=uniform_num_bins, num_dist_params=uniform_num_dist_params)"
   ]
  },
  {
   "cell_type": "code",
   "execution_count": 32,
   "id": "282b6ed4-dd78-45b7-8efb-c93d96d76ffe",
   "metadata": {},
   "outputs": [
    {
     "name": "stdout",
     "output_type": "stream",
     "text": [
      "Estimated Chi2: 12.179. Chi2 critical value: 27.587\n",
      "Accepted!\n"
     ]
    }
   ],
   "source": [
    "print(f'Estimated Chi2: {uniform_chi2_hat:.3f}. Chi2 critical value: {uniform_chi2:.3f}')\n",
    "print('Accepted!' if accept_chi2(uniform_chi2_hat, uniform_chi2) else 'Rejected!')"
   ]
  },
  {
   "cell_type": "code",
   "execution_count": null,
   "id": "f2ea55ff-a6d1-4b69-8e88-2dc5abbd9f02",
   "metadata": {},
   "outputs": [],
   "source": []
  }
 ],
 "metadata": {
  "kernelspec": {
   "display_name": "Python 3 (ipykernel)",
   "language": "python",
   "name": "python3"
  },
  "language_info": {
   "codemirror_mode": {
    "name": "ipython",
    "version": 3
   },
   "file_extension": ".py",
   "mimetype": "text/x-python",
   "name": "python",
   "nbconvert_exporter": "python",
   "pygments_lexer": "ipython3",
   "version": "3.9.14"
  }
 },
 "nbformat": 4,
 "nbformat_minor": 5
}
